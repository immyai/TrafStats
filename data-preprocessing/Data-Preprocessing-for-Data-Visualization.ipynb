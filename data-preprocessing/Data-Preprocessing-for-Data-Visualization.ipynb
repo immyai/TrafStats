{
 "cells": [
  {
   "cell_type": "markdown",
   "metadata": {
    "id": "wZO9T-YsDeL1"
   },
   "source": [
    "# 1. Data Imports"
   ]
  },
  {
   "cell_type": "markdown",
   "metadata": {
    "id": "3ji5W2naD7oa"
   },
   "source": [
    "## 1.1 Context\n",
    "\n",
    "The UK government amassed traffic data from 2005 and 2019, recording over 2 million accidents in the process and making this one of the most comprehensive traffic data sets out there. It's a huge picture of a country undergoing change.\n",
    "\n",
    "Note that all the contained accident data comes from police reports, so this data does not include minor incidents."
   ]
  },
  {
   "cell_type": "markdown",
   "metadata": {
    "id": "SXGYLyFZEMtR"
   },
   "source": [
    "## 1.2 Import Libraries"
   ]
  },
  {
   "cell_type": "code",
   "execution_count": 1,
   "metadata": {
    "id": "ttX2f0cpDNe3"
   },
   "outputs": [],
   "source": [
    "import numpy as np\n",
    "import pandas as pd\n",
    "import matplotlib.pyplot as plt\n",
    "import seaborn as sns\n",
    "%matplotlib inline"
   ]
  },
  {
   "cell_type": "markdown",
   "metadata": {
    "id": "5rNUQUMaEdTi"
   },
   "source": [
    "## 1.3 CSV Input\n",
    "\n",
    "These four files together makes up an approximately 2.1 million data of traffic accidents collected in the United Kingdom, through the years of 2005 to 2019. However, data from 2008 are not included."
   ]
  },
  {
   "cell_type": "code",
   "execution_count": 2,
   "metadata": {
    "id": "Fxw87hG5EcuC"
   },
   "outputs": [],
   "source": [
    "# Load csv file of accidents from 2005 to 2007\n",
    "df1 = pd.read_csv('accidents_2005_to_2007.csv', \n",
    "                  dtype={'Accident_Index':'object',\n",
    "                         'Location_Easting_OSGR':'float64',\n",
    "                         'Location_Northing_OSGR':'float64',\n",
    "                         'Longitude':'float64',\n",
    "                         'Latitude':'float64',\n",
    "                         'Police_Force':'int64',\n",
    "                         'Accident_Severity':'int64',\n",
    "                         'Number_of_Vehicles':'int64',\n",
    "                         'Number_of_Casualties':'int64',\n",
    "                         'Date':'object',\n",
    "                         'Day_of_Week':'int64',\n",
    "                         'Time':'object',\n",
    "                         'Local_Authority_(District)':'int64',\n",
    "                         'Local_Authority_(Highway)':'object',\n",
    "                         '1st_Road_Class':'int64',\n",
    "                         '1st_Road_Number':'int64',\n",
    "                         'Road_Type':'object',\n",
    "                         'Speed_limit':'int64',\n",
    "                         'Junction_Detail':'float64',\n",
    "                         'Junction_Control':'object',\n",
    "                         '2nd_Road_Class':'int64',\n",
    "                         '2nd_Road_Number':'int64',\n",
    "                         'Pedestrian_Crossing-Human_Control':'object',\n",
    "                         'Pedestrian_Crossing-Physical_Facilities':'object',\n",
    "                         'Light_Conditions':'object',\n",
    "                         'Weather_Conditions':'object',\n",
    "                         'Road_Surface_Conditions':'object',\n",
    "                         'Special_Conditions_at_Site':'object',\n",
    "                         'Carriageway_Hazards':'object',\n",
    "                         'Urban_or_Rural_Area':'int64',\n",
    "                         'Did_Police_Officer_Attend_Scene_of_Accident':'object',\n",
    "                         'LSOA_of_Accident_Location':'object',\n",
    "                         'Year':'int64'})"
   ]
  },
  {
   "cell_type": "code",
   "execution_count": 3,
   "metadata": {
    "id": "-39dOagIVe2h"
   },
   "outputs": [],
   "source": [
    "# Load csv file of accidents from 2009 to 2011\n",
    "df2 = pd.read_csv('accidents_2009_to_2011.csv', \n",
    "                  dtype={'Accident_Index':'object',\n",
    "                         'Location_Easting_OSGR':'float64',\n",
    "                         'Location_Northing_OSGR':'float64',\n",
    "                         'Longitude':'float64',\n",
    "                         'Latitude':'float64',\n",
    "                         'Police_Force':'int64',\n",
    "                         'Accident_Severity':'int64',\n",
    "                         'Number_of_Vehicles':'int64',\n",
    "                         'Number_of_Casualties':'int64',\n",
    "                         'Date':'object',\n",
    "                         'Day_of_Week':'int64',\n",
    "                         'Time':'object',\n",
    "                         'Local_Authority_(District)':'int64',\n",
    "                         'Local_Authority_(Highway)':'object',\n",
    "                         '1st_Road_Class':'int64',\n",
    "                         '1st_Road_Number':'int64',\n",
    "                         'Road_Type':'object',\n",
    "                         'Speed_limit':'int64',\n",
    "                         'Junction_Detail':'float64',\n",
    "                         'Junction_Control':'object',\n",
    "                         '2nd_Road_Class':'int64',\n",
    "                         '2nd_Road_Number':'int64',\n",
    "                         'Pedestrian_Crossing-Human_Control':'object',\n",
    "                         'Pedestrian_Crossing-Physical_Facilities':'object',\n",
    "                         'Light_Conditions':'object',\n",
    "                         'Weather_Conditions':'object',\n",
    "                         'Road_Surface_Conditions':'object',\n",
    "                         'Special_Conditions_at_Site':'object',\n",
    "                         'Carriageway_Hazards':'object',\n",
    "                         'Urban_or_Rural_Area':'int64',\n",
    "                         'Did_Police_Officer_Attend_Scene_of_Accident':'object',\n",
    "                         'LSOA_of_Accident_Location':'object',\n",
    "                         'Year':'int64'})"
   ]
  },
  {
   "cell_type": "code",
   "execution_count": 4,
   "metadata": {
    "id": "_fGA3fD3VrbH"
   },
   "outputs": [],
   "source": [
    "# Load csv file of accidents from 2012 to 2014\n",
    "df3 = pd.read_csv('accidents_2012_to_2014.csv', \n",
    "                  dtype={'Accident_Index':'object',\n",
    "                         'Location_Easting_OSGR':'float64',\n",
    "                         'Location_Northing_OSGR':'float64',\n",
    "                         'Longitude':'float64',\n",
    "                         'Latitude':'float64',\n",
    "                         'Police_Force':'int64',\n",
    "                         'Accident_Severity':'int64',\n",
    "                         'Number_of_Vehicles':'int64',\n",
    "                         'Number_of_Casualties':'int64',\n",
    "                         'Date':'object',\n",
    "                         'Day_of_Week':'int64',\n",
    "                         'Time':'object',\n",
    "                         'Local_Authority_(District)':'int64',\n",
    "                         'Local_Authority_(Highway)':'object',\n",
    "                         '1st_Road_Class':'int64',\n",
    "                         '1st_Road_Number':'int64',\n",
    "                         'Road_Type':'object',\n",
    "                         'Speed_limit':'int64',\n",
    "                         'Junction_Detail':'float64',\n",
    "                         'Junction_Control':'object',\n",
    "                         '2nd_Road_Class':'int64',\n",
    "                         '2nd_Road_Number':'int64',\n",
    "                         'Pedestrian_Crossing-Human_Control':'object',\n",
    "                         'Pedestrian_Crossing-Physical_Facilities':'object',\n",
    "                         'Light_Conditions':'object',\n",
    "                         'Weather_Conditions':'object',\n",
    "                         'Road_Surface_Conditions':'object',\n",
    "                         'Special_Conditions_at_Site':'object',\n",
    "                         'Carriageway_Hazards':'object',\n",
    "                         'Urban_or_Rural_Area':'int64',\n",
    "                         'Did_Police_Officer_Attend_Scene_of_Accident':'object',\n",
    "                         'LSOA_of_Accident_Location':'object',\n",
    "                         'Year':'int64'})"
   ]
  },
  {
   "cell_type": "code",
   "execution_count": 5,
   "metadata": {
    "id": "coGX_NuJsJRO"
   },
   "outputs": [],
   "source": [
    "# Load csv file of accidents from 2015 to 2019\n",
    "df4 = pd.read_csv('accidents_2015_to_2019.csv', \n",
    "                  dtype={'Accident_Index':'object',\n",
    "                         'Location_Easting_OSGR':'float64',\n",
    "                         'Location_Northing_OSGR':'float64',\n",
    "                         'Longitude':'float64',\n",
    "                         'Latitude':'float64',\n",
    "                         'Police_Force':'int64',\n",
    "                         'Accident_Severity':'int64',\n",
    "                         'Number_of_Vehicles':'int64',\n",
    "                         'Number_of_Casualties':'int64',\n",
    "                         'Date':'object',\n",
    "                         'Day_of_Week':'int64',\n",
    "                         'Time':'object',\n",
    "                         'Local_Authority_(District)':'int64',\n",
    "                         'Local_Authority_(Highway)':'object',\n",
    "                         '1st_Road_Class':'int64',\n",
    "                         '1st_Road_Number':'int64',\n",
    "                         'Road_Type':'object',\n",
    "                         'Speed_limit':'int64',\n",
    "                         'Junction_Detail':'float64',\n",
    "                         'Junction_Control':'object',\n",
    "                         '2nd_Road_Class':'int64',\n",
    "                         '2nd_Road_Number':'int64',\n",
    "                         'Pedestrian_Crossing-Human_Control':'object',\n",
    "                         'Pedestrian_Crossing-Physical_Facilities':'object',\n",
    "                         'Light_Conditions':'object',\n",
    "                         'Weather_Conditions':'object',\n",
    "                         'Road_Surface_Conditions':'object',\n",
    "                         'Special_Conditions_at_Site':'object',\n",
    "                         'Carriageway_Hazards':'object',\n",
    "                         'Urban_or_Rural_Area':'int64',\n",
    "                         'Did_Police_Officer_Attend_Scene_of_Accident':'object',\n",
    "                         'LSOA_of_Accident_Location':'object'})"
   ]
  },
  {
   "cell_type": "markdown",
   "metadata": {
    "id": "VDUbzi4tV6F_"
   },
   "source": [
    "## 1.4 Data Concatenation"
   ]
  },
  {
   "cell_type": "code",
   "execution_count": 6,
   "metadata": {
    "id": "QXUOFvn3WA7G"
   },
   "outputs": [],
   "source": [
    "# Glues the dataframes together\n",
    "accidents = pd.concat([df1, df2, df3, df4])"
   ]
  },
  {
   "cell_type": "markdown",
   "metadata": {
    "id": "sTFICF8QWAf_"
   },
   "source": [
    "**Note: If there is a warning error: \"DtypeWarning: Columns (x) have mixed types. Specify dtype option on import or set low_memory=False\", refer to the links below**\n",
    "\n",
    "* https://stackoverflow.com/questions/24251219/pandas-read-csv-low-memory-and-dtype-options\n",
    "* https://www.roelpeters.be/solved-dtypewarning-columns-have-mixed-types-specify-dtype-option-on-import-or-set-low-memory-in-pandas/\n"
   ]
  },
  {
   "cell_type": "markdown",
   "metadata": {
    "id": "SOT8E7enWqa3"
   },
   "source": [
    "# 2. Exploratory Data Analysis"
   ]
  },
  {
   "cell_type": "markdown",
   "metadata": {
    "id": "nozUscZiXsXW"
   },
   "source": [
    "## 2.1 Reading the Data"
   ]
  },
  {
   "cell_type": "code",
   "execution_count": 7,
   "metadata": {
    "colab": {
     "base_uri": "https://localhost:8080/",
     "height": 360
    },
    "id": "x-HMxY7UWXkA",
    "outputId": "d141a6eb-1636-45b7-fe2b-d455041a44ce"
   },
   "outputs": [
    {
     "data": {
      "text/html": [
       "<div>\n",
       "<style scoped>\n",
       "    .dataframe tbody tr th:only-of-type {\n",
       "        vertical-align: middle;\n",
       "    }\n",
       "\n",
       "    .dataframe tbody tr th {\n",
       "        vertical-align: top;\n",
       "    }\n",
       "\n",
       "    .dataframe thead th {\n",
       "        text-align: right;\n",
       "    }\n",
       "</style>\n",
       "<table border=\"1\" class=\"dataframe\">\n",
       "  <thead>\n",
       "    <tr style=\"text-align: right;\">\n",
       "      <th></th>\n",
       "      <th>Accident_Index</th>\n",
       "      <th>Location_Easting_OSGR</th>\n",
       "      <th>Location_Northing_OSGR</th>\n",
       "      <th>Longitude</th>\n",
       "      <th>Latitude</th>\n",
       "      <th>Police_Force</th>\n",
       "      <th>Accident_Severity</th>\n",
       "      <th>Number_of_Vehicles</th>\n",
       "      <th>Number_of_Casualties</th>\n",
       "      <th>Date</th>\n",
       "      <th>...</th>\n",
       "      <th>Pedestrian_Crossing-Physical_Facilities</th>\n",
       "      <th>Light_Conditions</th>\n",
       "      <th>Weather_Conditions</th>\n",
       "      <th>Road_Surface_Conditions</th>\n",
       "      <th>Special_Conditions_at_Site</th>\n",
       "      <th>Carriageway_Hazards</th>\n",
       "      <th>Urban_or_Rural_Area</th>\n",
       "      <th>Did_Police_Officer_Attend_Scene_of_Accident</th>\n",
       "      <th>LSOA_of_Accident_Location</th>\n",
       "      <th>Year</th>\n",
       "    </tr>\n",
       "  </thead>\n",
       "  <tbody>\n",
       "    <tr>\n",
       "      <th>0</th>\n",
       "      <td>200501BS00001</td>\n",
       "      <td>525680.0</td>\n",
       "      <td>178240.0</td>\n",
       "      <td>-0.191170</td>\n",
       "      <td>51.489096</td>\n",
       "      <td>1</td>\n",
       "      <td>2</td>\n",
       "      <td>1</td>\n",
       "      <td>1</td>\n",
       "      <td>04/01/2005</td>\n",
       "      <td>...</td>\n",
       "      <td>Zebra crossing</td>\n",
       "      <td>Daylight: Street light present</td>\n",
       "      <td>Raining without high winds</td>\n",
       "      <td>Wet/Damp</td>\n",
       "      <td>None</td>\n",
       "      <td>None</td>\n",
       "      <td>1</td>\n",
       "      <td>Yes</td>\n",
       "      <td>E01002849</td>\n",
       "      <td>2005</td>\n",
       "    </tr>\n",
       "    <tr>\n",
       "      <th>1</th>\n",
       "      <td>200501BS00002</td>\n",
       "      <td>524170.0</td>\n",
       "      <td>181650.0</td>\n",
       "      <td>-0.211708</td>\n",
       "      <td>51.520075</td>\n",
       "      <td>1</td>\n",
       "      <td>3</td>\n",
       "      <td>1</td>\n",
       "      <td>1</td>\n",
       "      <td>05/01/2005</td>\n",
       "      <td>...</td>\n",
       "      <td>Pedestrian phase at traffic signal junction</td>\n",
       "      <td>Darkness: Street lights present and lit</td>\n",
       "      <td>Fine without high winds</td>\n",
       "      <td>Dry</td>\n",
       "      <td>None</td>\n",
       "      <td>None</td>\n",
       "      <td>1</td>\n",
       "      <td>Yes</td>\n",
       "      <td>E01002909</td>\n",
       "      <td>2005</td>\n",
       "    </tr>\n",
       "    <tr>\n",
       "      <th>2</th>\n",
       "      <td>200501BS00003</td>\n",
       "      <td>524520.0</td>\n",
       "      <td>182240.0</td>\n",
       "      <td>-0.206458</td>\n",
       "      <td>51.525301</td>\n",
       "      <td>1</td>\n",
       "      <td>3</td>\n",
       "      <td>2</td>\n",
       "      <td>1</td>\n",
       "      <td>06/01/2005</td>\n",
       "      <td>...</td>\n",
       "      <td>No physical crossing within 50 meters</td>\n",
       "      <td>Darkness: Street lights present and lit</td>\n",
       "      <td>Fine without high winds</td>\n",
       "      <td>Dry</td>\n",
       "      <td>None</td>\n",
       "      <td>None</td>\n",
       "      <td>1</td>\n",
       "      <td>Yes</td>\n",
       "      <td>E01002857</td>\n",
       "      <td>2005</td>\n",
       "    </tr>\n",
       "    <tr>\n",
       "      <th>3</th>\n",
       "      <td>200501BS00004</td>\n",
       "      <td>526900.0</td>\n",
       "      <td>177530.0</td>\n",
       "      <td>-0.173862</td>\n",
       "      <td>51.482442</td>\n",
       "      <td>1</td>\n",
       "      <td>3</td>\n",
       "      <td>1</td>\n",
       "      <td>1</td>\n",
       "      <td>07/01/2005</td>\n",
       "      <td>...</td>\n",
       "      <td>No physical crossing within 50 meters</td>\n",
       "      <td>Daylight: Street light present</td>\n",
       "      <td>Fine without high winds</td>\n",
       "      <td>Dry</td>\n",
       "      <td>None</td>\n",
       "      <td>None</td>\n",
       "      <td>1</td>\n",
       "      <td>Yes</td>\n",
       "      <td>E01002840</td>\n",
       "      <td>2005</td>\n",
       "    </tr>\n",
       "    <tr>\n",
       "      <th>4</th>\n",
       "      <td>200501BS00005</td>\n",
       "      <td>528060.0</td>\n",
       "      <td>179040.0</td>\n",
       "      <td>-0.156618</td>\n",
       "      <td>51.495752</td>\n",
       "      <td>1</td>\n",
       "      <td>3</td>\n",
       "      <td>1</td>\n",
       "      <td>1</td>\n",
       "      <td>10/01/2005</td>\n",
       "      <td>...</td>\n",
       "      <td>No physical crossing within 50 meters</td>\n",
       "      <td>Darkness: Street lighting unknown</td>\n",
       "      <td>Fine without high winds</td>\n",
       "      <td>Wet/Damp</td>\n",
       "      <td>None</td>\n",
       "      <td>None</td>\n",
       "      <td>1</td>\n",
       "      <td>Yes</td>\n",
       "      <td>E01002863</td>\n",
       "      <td>2005</td>\n",
       "    </tr>\n",
       "  </tbody>\n",
       "</table>\n",
       "<p>5 rows × 33 columns</p>\n",
       "</div>"
      ],
      "text/plain": [
       "  Accident_Index  Location_Easting_OSGR  Location_Northing_OSGR  Longitude  \\\n",
       "0  200501BS00001               525680.0                178240.0  -0.191170   \n",
       "1  200501BS00002               524170.0                181650.0  -0.211708   \n",
       "2  200501BS00003               524520.0                182240.0  -0.206458   \n",
       "3  200501BS00004               526900.0                177530.0  -0.173862   \n",
       "4  200501BS00005               528060.0                179040.0  -0.156618   \n",
       "\n",
       "    Latitude  Police_Force  Accident_Severity  Number_of_Vehicles  \\\n",
       "0  51.489096             1                  2                   1   \n",
       "1  51.520075             1                  3                   1   \n",
       "2  51.525301             1                  3                   2   \n",
       "3  51.482442             1                  3                   1   \n",
       "4  51.495752             1                  3                   1   \n",
       "\n",
       "   Number_of_Casualties        Date  ...  \\\n",
       "0                     1  04/01/2005  ...   \n",
       "1                     1  05/01/2005  ...   \n",
       "2                     1  06/01/2005  ...   \n",
       "3                     1  07/01/2005  ...   \n",
       "4                     1  10/01/2005  ...   \n",
       "\n",
       "       Pedestrian_Crossing-Physical_Facilities  \\\n",
       "0                               Zebra crossing   \n",
       "1  Pedestrian phase at traffic signal junction   \n",
       "2        No physical crossing within 50 meters   \n",
       "3        No physical crossing within 50 meters   \n",
       "4        No physical crossing within 50 meters   \n",
       "\n",
       "                          Light_Conditions          Weather_Conditions  \\\n",
       "0           Daylight: Street light present  Raining without high winds   \n",
       "1  Darkness: Street lights present and lit     Fine without high winds   \n",
       "2  Darkness: Street lights present and lit     Fine without high winds   \n",
       "3           Daylight: Street light present     Fine without high winds   \n",
       "4        Darkness: Street lighting unknown     Fine without high winds   \n",
       "\n",
       "  Road_Surface_Conditions  Special_Conditions_at_Site  Carriageway_Hazards  \\\n",
       "0                Wet/Damp                        None                 None   \n",
       "1                     Dry                        None                 None   \n",
       "2                     Dry                        None                 None   \n",
       "3                     Dry                        None                 None   \n",
       "4                Wet/Damp                        None                 None   \n",
       "\n",
       "  Urban_or_Rural_Area  Did_Police_Officer_Attend_Scene_of_Accident  \\\n",
       "0                   1                                          Yes   \n",
       "1                   1                                          Yes   \n",
       "2                   1                                          Yes   \n",
       "3                   1                                          Yes   \n",
       "4                   1                                          Yes   \n",
       "\n",
       "   LSOA_of_Accident_Location  Year  \n",
       "0                  E01002849  2005  \n",
       "1                  E01002909  2005  \n",
       "2                  E01002857  2005  \n",
       "3                  E01002840  2005  \n",
       "4                  E01002863  2005  \n",
       "\n",
       "[5 rows x 33 columns]"
      ]
     },
     "execution_count": 7,
     "metadata": {},
     "output_type": "execute_result"
    }
   ],
   "source": [
    "accidents.head()"
   ]
  },
  {
   "cell_type": "code",
   "execution_count": 8,
   "metadata": {
    "colab": {
     "base_uri": "https://localhost:8080/"
    },
    "id": "9Y-p5F2YYgpx",
    "outputId": "ccc26780-9080-43b3-acae-ce87231794f0"
   },
   "outputs": [
    {
     "data": {
      "text/plain": [
       "(2150980, 33)"
      ]
     },
     "execution_count": 8,
     "metadata": {},
     "output_type": "execute_result"
    }
   ],
   "source": [
    "accidents.shape"
   ]
  },
  {
   "cell_type": "markdown",
   "metadata": {
    "id": "aM0aR0OXYjyW"
   },
   "source": [
    "After concatenating the dataframes together, we will get a total of an approximately 2.1 million rows and 33 columns. The columns found in this dataset are listed below."
   ]
  },
  {
   "cell_type": "code",
   "execution_count": 9,
   "metadata": {
    "colab": {
     "base_uri": "https://localhost:8080/"
    },
    "id": "6-vzBzz4X4XH",
    "outputId": "a2f1a996-0f3c-438a-85d9-be2feab0e14f"
   },
   "outputs": [
    {
     "name": "stdout",
     "output_type": "stream",
     "text": [
      "<class 'pandas.core.frame.DataFrame'>\n",
      "Int64Index: 2150980 entries, 0 to 646829\n",
      "Data columns (total 33 columns):\n",
      " #   Column                                       Dtype  \n",
      "---  ------                                       -----  \n",
      " 0   Accident_Index                               object \n",
      " 1   Location_Easting_OSGR                        float64\n",
      " 2   Location_Northing_OSGR                       float64\n",
      " 3   Longitude                                    float64\n",
      " 4   Latitude                                     float64\n",
      " 5   Police_Force                                 int64  \n",
      " 6   Accident_Severity                            int64  \n",
      " 7   Number_of_Vehicles                           int64  \n",
      " 8   Number_of_Casualties                         int64  \n",
      " 9   Date                                         object \n",
      " 10  Day_of_Week                                  int64  \n",
      " 11  Time                                         object \n",
      " 12  Local_Authority_(District)                   int64  \n",
      " 13  Local_Authority_(Highway)                    object \n",
      " 14  1st_Road_Class                               int64  \n",
      " 15  1st_Road_Number                              int64  \n",
      " 16  Road_Type                                    object \n",
      " 17  Speed_limit                                  int64  \n",
      " 18  Junction_Detail                              float64\n",
      " 19  Junction_Control                             object \n",
      " 20  2nd_Road_Class                               int64  \n",
      " 21  2nd_Road_Number                              int64  \n",
      " 22  Pedestrian_Crossing-Human_Control            object \n",
      " 23  Pedestrian_Crossing-Physical_Facilities      object \n",
      " 24  Light_Conditions                             object \n",
      " 25  Weather_Conditions                           object \n",
      " 26  Road_Surface_Conditions                      object \n",
      " 27  Special_Conditions_at_Site                   object \n",
      " 28  Carriageway_Hazards                          object \n",
      " 29  Urban_or_Rural_Area                          int64  \n",
      " 30  Did_Police_Officer_Attend_Scene_of_Accident  object \n",
      " 31  LSOA_of_Accident_Location                    object \n",
      " 32  Year                                         int64  \n",
      "dtypes: float64(5), int64(13), object(15)\n",
      "memory usage: 558.0+ MB\n"
     ]
    }
   ],
   "source": [
    "accidents.info()"
   ]
  },
  {
   "cell_type": "markdown",
   "metadata": {
    "id": "KUFTLgajYMXf"
   },
   "source": [
    "## 2.2 Drop Columns\n",
    "\n",
    "The current dataframe can be further broken down. We have to remove all the unnecessary columns and only keep the ones that are related to our project scope.\n"
   ]
  },
  {
   "cell_type": "code",
   "execution_count": 10,
   "metadata": {
    "id": "0B86yXBpYsSG"
   },
   "outputs": [],
   "source": [
    "accidents.drop(['Accident_Index', 'Location_Easting_OSGR', 'Location_Northing_OSGR',\n",
    "                'Police_Force', 'Number_of_Casualties', 'Local_Authority_(District)',\n",
    "                'Local_Authority_(Highway)', '1st_Road_Class', '1st_Road_Number',\n",
    "                'Junction_Detail', 'Junction_Control', '2nd_Road_Class', '2nd_Road_Number', \n",
    "                'Pedestrian_Crossing-Human_Control', 'Pedestrian_Crossing-Physical_Facilities', \n",
    "                'Carriageway_Hazards', 'Special_Conditions_at_Site', 'Urban_or_Rural_Area', \n",
    "                'Did_Police_Officer_Attend_Scene_of_Accident', 'LSOA_of_Accident_Location', \n",
    "                'Year'], axis=1, inplace=True)"
   ]
  },
  {
   "cell_type": "code",
   "execution_count": 11,
   "metadata": {
    "colab": {
     "base_uri": "https://localhost:8080/"
    },
    "id": "BZt9Ds2MZWZv",
    "outputId": "e92c4351-4ad0-4207-f04c-ba3793688345"
   },
   "outputs": [
    {
     "data": {
      "text/plain": [
       "(2150980, 12)"
      ]
     },
     "execution_count": 11,
     "metadata": {},
     "output_type": "execute_result"
    }
   ],
   "source": [
    "accidents.shape"
   ]
  },
  {
   "cell_type": "markdown",
   "metadata": {
    "id": "d2JRijXYZJpO"
   },
   "source": [
    "After dropping all the unnecessary columns, we will now have a total of approximately 1.9 million rows and 12 columns. The columns we will be keeping are listed below."
   ]
  },
  {
   "cell_type": "code",
   "execution_count": 12,
   "metadata": {
    "colab": {
     "base_uri": "https://localhost:8080/"
    },
    "id": "GM75--pNZHRu",
    "outputId": "1fd97712-0edd-48c4-ab43-04e47f81f4fb"
   },
   "outputs": [
    {
     "name": "stdout",
     "output_type": "stream",
     "text": [
      "<class 'pandas.core.frame.DataFrame'>\n",
      "Int64Index: 2150980 entries, 0 to 646829\n",
      "Data columns (total 12 columns):\n",
      " #   Column                   Dtype  \n",
      "---  ------                   -----  \n",
      " 0   Longitude                float64\n",
      " 1   Latitude                 float64\n",
      " 2   Accident_Severity        int64  \n",
      " 3   Number_of_Vehicles       int64  \n",
      " 4   Date                     object \n",
      " 5   Day_of_Week              int64  \n",
      " 6   Time                     object \n",
      " 7   Road_Type                object \n",
      " 8   Speed_limit              int64  \n",
      " 9   Light_Conditions         object \n",
      " 10  Weather_Conditions       object \n",
      " 11  Road_Surface_Conditions  object \n",
      "dtypes: float64(2), int64(4), object(6)\n",
      "memory usage: 213.3+ MB\n"
     ]
    }
   ],
   "source": [
    "accidents.info()"
   ]
  },
  {
   "cell_type": "markdown",
   "metadata": {
    "id": "UZk7dcn2ZjpW"
   },
   "source": [
    "## 2.3 Create New Columns\n",
    "\n",
    "As we look further into the features of the dataframe as shown below, the columns 'Date' and 'Day_of_Week' can be converted into categorical features to represent the specific day and month instead of numerical ones. With categorical features, we will be able to easily visualize the data."
   ]
  },
  {
   "cell_type": "code",
   "execution_count": 13,
   "metadata": {
    "colab": {
     "base_uri": "https://localhost:8080/",
     "height": 204
    },
    "id": "WrLUOggkaq1H",
    "outputId": "c0005cbc-dd28-4a36-af50-2b975479f1cf"
   },
   "outputs": [
    {
     "data": {
      "text/html": [
       "<div>\n",
       "<style scoped>\n",
       "    .dataframe tbody tr th:only-of-type {\n",
       "        vertical-align: middle;\n",
       "    }\n",
       "\n",
       "    .dataframe tbody tr th {\n",
       "        vertical-align: top;\n",
       "    }\n",
       "\n",
       "    .dataframe thead th {\n",
       "        text-align: right;\n",
       "    }\n",
       "</style>\n",
       "<table border=\"1\" class=\"dataframe\">\n",
       "  <thead>\n",
       "    <tr style=\"text-align: right;\">\n",
       "      <th></th>\n",
       "      <th>Date</th>\n",
       "      <th>Day_of_Week</th>\n",
       "    </tr>\n",
       "  </thead>\n",
       "  <tbody>\n",
       "    <tr>\n",
       "      <th>0</th>\n",
       "      <td>04/01/2005</td>\n",
       "      <td>3</td>\n",
       "    </tr>\n",
       "    <tr>\n",
       "      <th>1</th>\n",
       "      <td>05/01/2005</td>\n",
       "      <td>4</td>\n",
       "    </tr>\n",
       "    <tr>\n",
       "      <th>2</th>\n",
       "      <td>06/01/2005</td>\n",
       "      <td>5</td>\n",
       "    </tr>\n",
       "    <tr>\n",
       "      <th>3</th>\n",
       "      <td>07/01/2005</td>\n",
       "      <td>6</td>\n",
       "    </tr>\n",
       "    <tr>\n",
       "      <th>4</th>\n",
       "      <td>10/01/2005</td>\n",
       "      <td>2</td>\n",
       "    </tr>\n",
       "  </tbody>\n",
       "</table>\n",
       "</div>"
      ],
      "text/plain": [
       "         Date  Day_of_Week\n",
       "0  04/01/2005            3\n",
       "1  05/01/2005            4\n",
       "2  06/01/2005            5\n",
       "3  07/01/2005            6\n",
       "4  10/01/2005            2"
      ]
     },
     "execution_count": 13,
     "metadata": {},
     "output_type": "execute_result"
    }
   ],
   "source": [
    "accidents[['Date', 'Day_of_Week']].head()"
   ]
  },
  {
   "cell_type": "code",
   "execution_count": 14,
   "metadata": {
    "id": "mszjbx3caxO_"
   },
   "outputs": [],
   "source": [
    "# Convert the 'Date' object to datetime data type\n",
    "accidents['Date'] = pd.to_datetime(accidents['Date'])"
   ]
  },
  {
   "cell_type": "code",
   "execution_count": 15,
   "metadata": {
    "id": "boA1YDMca9H-"
   },
   "outputs": [],
   "source": [
    "# Replace the 'Day_of_Week' column from numerical to categorical values\n",
    "accidents['Day_of_Week'] = accidents['Date'].dt.day_name()"
   ]
  },
  {
   "cell_type": "code",
   "execution_count": 16,
   "metadata": {
    "id": "T5ZrhkMWbLC2"
   },
   "outputs": [],
   "source": [
    "# Rename the 'Day_of_Week' column to 'Day'\n",
    "accidents.rename(columns={'Day_of_Week':'Day'}, inplace=True)"
   ]
  },
  {
   "cell_type": "code",
   "execution_count": 17,
   "metadata": {
    "id": "XelmknCybaQW"
   },
   "outputs": [],
   "source": [
    "# Add a new column for 'Month'\n",
    "accidents['Month'] = accidents['Date'].dt.month_name()"
   ]
  },
  {
   "cell_type": "code",
   "execution_count": 18,
   "metadata": {
    "id": "T_ViN7wlv6iB"
   },
   "outputs": [],
   "source": [
    "# Add a new column for 'Year'\n",
    "accidents['Year'] = pd.DatetimeIndex(accidents['Date']).year"
   ]
  },
  {
   "cell_type": "code",
   "execution_count": 19,
   "metadata": {
    "colab": {
     "base_uri": "https://localhost:8080/",
     "height": 204
    },
    "id": "dBTfvOsgbn5-",
    "outputId": "d7c40e49-6917-41b6-8ca7-02664c5c8398"
   },
   "outputs": [
    {
     "data": {
      "text/html": [
       "<div>\n",
       "<style scoped>\n",
       "    .dataframe tbody tr th:only-of-type {\n",
       "        vertical-align: middle;\n",
       "    }\n",
       "\n",
       "    .dataframe tbody tr th {\n",
       "        vertical-align: top;\n",
       "    }\n",
       "\n",
       "    .dataframe thead th {\n",
       "        text-align: right;\n",
       "    }\n",
       "</style>\n",
       "<table border=\"1\" class=\"dataframe\">\n",
       "  <thead>\n",
       "    <tr style=\"text-align: right;\">\n",
       "      <th></th>\n",
       "      <th>Date</th>\n",
       "      <th>Day</th>\n",
       "      <th>Month</th>\n",
       "      <th>Year</th>\n",
       "    </tr>\n",
       "  </thead>\n",
       "  <tbody>\n",
       "    <tr>\n",
       "      <th>0</th>\n",
       "      <td>2005-04-01</td>\n",
       "      <td>Friday</td>\n",
       "      <td>April</td>\n",
       "      <td>2005</td>\n",
       "    </tr>\n",
       "    <tr>\n",
       "      <th>1</th>\n",
       "      <td>2005-05-01</td>\n",
       "      <td>Sunday</td>\n",
       "      <td>May</td>\n",
       "      <td>2005</td>\n",
       "    </tr>\n",
       "    <tr>\n",
       "      <th>2</th>\n",
       "      <td>2005-06-01</td>\n",
       "      <td>Wednesday</td>\n",
       "      <td>June</td>\n",
       "      <td>2005</td>\n",
       "    </tr>\n",
       "    <tr>\n",
       "      <th>3</th>\n",
       "      <td>2005-07-01</td>\n",
       "      <td>Friday</td>\n",
       "      <td>July</td>\n",
       "      <td>2005</td>\n",
       "    </tr>\n",
       "    <tr>\n",
       "      <th>4</th>\n",
       "      <td>2005-10-01</td>\n",
       "      <td>Saturday</td>\n",
       "      <td>October</td>\n",
       "      <td>2005</td>\n",
       "    </tr>\n",
       "  </tbody>\n",
       "</table>\n",
       "</div>"
      ],
      "text/plain": [
       "        Date        Day    Month  Year\n",
       "0 2005-04-01     Friday    April  2005\n",
       "1 2005-05-01     Sunday      May  2005\n",
       "2 2005-06-01  Wednesday     June  2005\n",
       "3 2005-07-01     Friday     July  2005\n",
       "4 2005-10-01   Saturday  October  2005"
      ]
     },
     "execution_count": 19,
     "metadata": {},
     "output_type": "execute_result"
    }
   ],
   "source": [
    "accidents[['Date', 'Day', 'Month', 'Year']].head()"
   ]
  },
  {
   "cell_type": "code",
   "execution_count": 20,
   "metadata": {
    "colab": {
     "base_uri": "https://localhost:8080/"
    },
    "id": "iJ4pr2hzcere",
    "outputId": "5ae2bdd3-fef1-4cde-ad35-46838df289c5",
    "scrolled": false
   },
   "outputs": [
    {
     "name": "stdout",
     "output_type": "stream",
     "text": [
      "<class 'pandas.core.frame.DataFrame'>\n",
      "Int64Index: 2150980 entries, 0 to 646829\n",
      "Data columns (total 14 columns):\n",
      " #   Column                   Dtype         \n",
      "---  ------                   -----         \n",
      " 0   Longitude                float64       \n",
      " 1   Latitude                 float64       \n",
      " 2   Accident_Severity        int64         \n",
      " 3   Number_of_Vehicles       int64         \n",
      " 4   Date                     datetime64[ns]\n",
      " 5   Day                      object        \n",
      " 6   Time                     object        \n",
      " 7   Road_Type                object        \n",
      " 8   Speed_limit              int64         \n",
      " 9   Light_Conditions         object        \n",
      " 10  Weather_Conditions       object        \n",
      " 11  Road_Surface_Conditions  object        \n",
      " 12  Month                    object        \n",
      " 13  Year                     int64         \n",
      "dtypes: datetime64[ns](1), float64(2), int64(4), object(7)\n",
      "memory usage: 246.2+ MB\n"
     ]
    }
   ],
   "source": [
    "accidents.info()"
   ]
  },
  {
   "cell_type": "markdown",
   "metadata": {
    "id": "fXzx7380cjXO"
   },
   "source": [
    "As we can see from the data analysis above, the 'Date' column data type has been changed accordingly and two new categorical columns called 'Month' and 'Year' has been created as well. Additionally, the column 'Day_of_Week' has been renamed to 'Day' and their numerical values has been replaced with the names of the week instead."
   ]
  },
  {
   "cell_type": "markdown",
   "metadata": {
    "id": "b6EtptB9dNgm"
   },
   "source": [
    "**Note: Reasons why we can't convert to dd-mm-yyyy format**\n",
    "\n",
    "* https://stackoverflow.com/questions/52291519/pandas-cant-convert-datetime-yyyy-mm-dd-to-dd-mm-yyyy"
   ]
  },
  {
   "cell_type": "markdown",
   "metadata": {
    "id": "WX94P4Tzd6FZ"
   },
   "source": [
    "## 2.4 Rearrange Columns\n",
    "\n",
    "We want to rearrange the columns so that the dataframe is readable."
   ]
  },
  {
   "cell_type": "code",
   "execution_count": 21,
   "metadata": {
    "id": "FxAzS6c7chhe"
   },
   "outputs": [],
   "source": [
    "# Rearrange the columns\n",
    "accidents = accidents[['Longitude', 'Latitude', 'Date', 'Time', 'Day', 'Month', 'Year', \n",
    "                       'Accident_Severity', 'Number_of_Vehicles', 'Speed_limit', 'Road_Type', \n",
    "                       'Light_Conditions', 'Weather_Conditions', 'Road_Surface_Conditions']]"
   ]
  },
  {
   "cell_type": "code",
   "execution_count": 22,
   "metadata": {
    "colab": {
     "base_uri": "https://localhost:8080/",
     "height": 289
    },
    "id": "0AKxHgD9eNVe",
    "outputId": "0d09a84c-0ae1-4834-ef8d-494137e42f51"
   },
   "outputs": [
    {
     "data": {
      "text/html": [
       "<div>\n",
       "<style scoped>\n",
       "    .dataframe tbody tr th:only-of-type {\n",
       "        vertical-align: middle;\n",
       "    }\n",
       "\n",
       "    .dataframe tbody tr th {\n",
       "        vertical-align: top;\n",
       "    }\n",
       "\n",
       "    .dataframe thead th {\n",
       "        text-align: right;\n",
       "    }\n",
       "</style>\n",
       "<table border=\"1\" class=\"dataframe\">\n",
       "  <thead>\n",
       "    <tr style=\"text-align: right;\">\n",
       "      <th></th>\n",
       "      <th>Longitude</th>\n",
       "      <th>Latitude</th>\n",
       "      <th>Date</th>\n",
       "      <th>Time</th>\n",
       "      <th>Day</th>\n",
       "      <th>Month</th>\n",
       "      <th>Year</th>\n",
       "      <th>Accident_Severity</th>\n",
       "      <th>Number_of_Vehicles</th>\n",
       "      <th>Speed_limit</th>\n",
       "      <th>Road_Type</th>\n",
       "      <th>Light_Conditions</th>\n",
       "      <th>Weather_Conditions</th>\n",
       "      <th>Road_Surface_Conditions</th>\n",
       "    </tr>\n",
       "  </thead>\n",
       "  <tbody>\n",
       "    <tr>\n",
       "      <th>0</th>\n",
       "      <td>-0.191170</td>\n",
       "      <td>51.489096</td>\n",
       "      <td>2005-04-01</td>\n",
       "      <td>17:42</td>\n",
       "      <td>Friday</td>\n",
       "      <td>April</td>\n",
       "      <td>2005</td>\n",
       "      <td>2</td>\n",
       "      <td>1</td>\n",
       "      <td>30</td>\n",
       "      <td>Single carriageway</td>\n",
       "      <td>Daylight: Street light present</td>\n",
       "      <td>Raining without high winds</td>\n",
       "      <td>Wet/Damp</td>\n",
       "    </tr>\n",
       "    <tr>\n",
       "      <th>1</th>\n",
       "      <td>-0.211708</td>\n",
       "      <td>51.520075</td>\n",
       "      <td>2005-05-01</td>\n",
       "      <td>17:36</td>\n",
       "      <td>Sunday</td>\n",
       "      <td>May</td>\n",
       "      <td>2005</td>\n",
       "      <td>3</td>\n",
       "      <td>1</td>\n",
       "      <td>30</td>\n",
       "      <td>Dual carriageway</td>\n",
       "      <td>Darkness: Street lights present and lit</td>\n",
       "      <td>Fine without high winds</td>\n",
       "      <td>Dry</td>\n",
       "    </tr>\n",
       "    <tr>\n",
       "      <th>2</th>\n",
       "      <td>-0.206458</td>\n",
       "      <td>51.525301</td>\n",
       "      <td>2005-06-01</td>\n",
       "      <td>00:15</td>\n",
       "      <td>Wednesday</td>\n",
       "      <td>June</td>\n",
       "      <td>2005</td>\n",
       "      <td>3</td>\n",
       "      <td>2</td>\n",
       "      <td>30</td>\n",
       "      <td>Single carriageway</td>\n",
       "      <td>Darkness: Street lights present and lit</td>\n",
       "      <td>Fine without high winds</td>\n",
       "      <td>Dry</td>\n",
       "    </tr>\n",
       "    <tr>\n",
       "      <th>3</th>\n",
       "      <td>-0.173862</td>\n",
       "      <td>51.482442</td>\n",
       "      <td>2005-07-01</td>\n",
       "      <td>10:35</td>\n",
       "      <td>Friday</td>\n",
       "      <td>July</td>\n",
       "      <td>2005</td>\n",
       "      <td>3</td>\n",
       "      <td>1</td>\n",
       "      <td>30</td>\n",
       "      <td>Single carriageway</td>\n",
       "      <td>Daylight: Street light present</td>\n",
       "      <td>Fine without high winds</td>\n",
       "      <td>Dry</td>\n",
       "    </tr>\n",
       "    <tr>\n",
       "      <th>4</th>\n",
       "      <td>-0.156618</td>\n",
       "      <td>51.495752</td>\n",
       "      <td>2005-10-01</td>\n",
       "      <td>21:13</td>\n",
       "      <td>Saturday</td>\n",
       "      <td>October</td>\n",
       "      <td>2005</td>\n",
       "      <td>3</td>\n",
       "      <td>1</td>\n",
       "      <td>30</td>\n",
       "      <td>Single carriageway</td>\n",
       "      <td>Darkness: Street lighting unknown</td>\n",
       "      <td>Fine without high winds</td>\n",
       "      <td>Wet/Damp</td>\n",
       "    </tr>\n",
       "  </tbody>\n",
       "</table>\n",
       "</div>"
      ],
      "text/plain": [
       "   Longitude   Latitude       Date   Time        Day    Month  Year  \\\n",
       "0  -0.191170  51.489096 2005-04-01  17:42     Friday    April  2005   \n",
       "1  -0.211708  51.520075 2005-05-01  17:36     Sunday      May  2005   \n",
       "2  -0.206458  51.525301 2005-06-01  00:15  Wednesday     June  2005   \n",
       "3  -0.173862  51.482442 2005-07-01  10:35     Friday     July  2005   \n",
       "4  -0.156618  51.495752 2005-10-01  21:13   Saturday  October  2005   \n",
       "\n",
       "   Accident_Severity  Number_of_Vehicles  Speed_limit           Road_Type  \\\n",
       "0                  2                   1           30  Single carriageway   \n",
       "1                  3                   1           30    Dual carriageway   \n",
       "2                  3                   2           30  Single carriageway   \n",
       "3                  3                   1           30  Single carriageway   \n",
       "4                  3                   1           30  Single carriageway   \n",
       "\n",
       "                          Light_Conditions          Weather_Conditions  \\\n",
       "0           Daylight: Street light present  Raining without high winds   \n",
       "1  Darkness: Street lights present and lit     Fine without high winds   \n",
       "2  Darkness: Street lights present and lit     Fine without high winds   \n",
       "3           Daylight: Street light present     Fine without high winds   \n",
       "4        Darkness: Street lighting unknown     Fine without high winds   \n",
       "\n",
       "  Road_Surface_Conditions  \n",
       "0                Wet/Damp  \n",
       "1                     Dry  \n",
       "2                     Dry  \n",
       "3                     Dry  \n",
       "4                Wet/Damp  "
      ]
     },
     "execution_count": 22,
     "metadata": {},
     "output_type": "execute_result"
    }
   ],
   "source": [
    "accidents.head()"
   ]
  },
  {
   "cell_type": "markdown",
   "metadata": {
    "id": "aIvTytLTeTk9"
   },
   "source": [
    "**Note: Even though the map coordinates reads by Latitude first followed by the Longitude, we will not be changing the order of these two columns as python basemap packages reads the other way round. Which is (x, y) = (Longitude, Latitude).**"
   ]
  },
  {
   "cell_type": "markdown",
   "metadata": {
    "id": "EIg1PDQnpnZ7"
   },
   "source": [
    "# 3. Data Cleaning"
   ]
  },
  {
   "cell_type": "markdown",
   "metadata": {},
   "source": [
    "## 3.1 Data Correction\n",
    "\n",
    "We want to check if there are any spelling errors or data inconsistencies for all the values in the dataset. We have to do this manually. Hence, we can use panda's value_counts() for our categorical features. They are...\n",
    "\n",
    "* Month\n",
    "* Year\n",
    "* Speed_limit\n",
    "* Road_Type\n",
    "* Light_Conditions\n",
    "* Weather_Conditions\n",
    "* Road_Surface_Conditions"
   ]
  },
  {
   "cell_type": "markdown",
   "metadata": {},
   "source": [
    "### 3.1.1 Month"
   ]
  },
  {
   "cell_type": "code",
   "execution_count": 23,
   "metadata": {
    "scrolled": true
   },
   "outputs": [
    {
     "data": {
      "text/plain": [
       "November     190147\n",
       "October      187709\n",
       "July         186044\n",
       "September    184775\n",
       "May          183716\n",
       "January      183387\n",
       "June         182763\n",
       "August       179340\n",
       "March        173694\n",
       "April        171829\n",
       "December     169236\n",
       "February     158340\n",
       "Name: Month, dtype: int64"
      ]
     },
     "execution_count": 23,
     "metadata": {},
     "output_type": "execute_result"
    }
   ],
   "source": [
    "accidents['Month'].value_counts()"
   ]
  },
  {
   "cell_type": "markdown",
   "metadata": {},
   "source": [
    "The spellings for each of the months are correct. Hence, we do not have to do anything."
   ]
  },
  {
   "cell_type": "markdown",
   "metadata": {},
   "source": [
    "### 3.1.2 Year"
   ]
  },
  {
   "cell_type": "code",
   "execution_count": 24,
   "metadata": {
    "scrolled": true
   },
   "outputs": [
    {
     "data": {
      "text/plain": [
       "2005    198735\n",
       "2006    189161\n",
       "2007    182115\n",
       "2012    179715\n",
       "2009    163554\n",
       "2010    154414\n",
       "2011    151474\n",
       "2014    146322\n",
       "2015    140056\n",
       "2013    138660\n",
       "2016    136621\n",
       "2017    129982\n",
       "2018    122635\n",
       "2019    117536\n",
       "Name: Year, dtype: int64"
      ]
     },
     "execution_count": 24,
     "metadata": {},
     "output_type": "execute_result"
    }
   ],
   "source": [
    "accidents['Year'].value_counts()"
   ]
  },
  {
   "cell_type": "markdown",
   "metadata": {},
   "source": [
    "The value counts shows the year range between 2005 to 2019, and only the year 2008 is missing. This is correct. Hence, we do not have to do anything."
   ]
  },
  {
   "cell_type": "markdown",
   "metadata": {},
   "source": [
    "### 3.1.3 Speed Limit"
   ]
  },
  {
   "cell_type": "code",
   "execution_count": 25,
   "metadata": {
    "scrolled": false
   },
   "outputs": [
    {
     "data": {
      "text/plain": [
       " 30    1365297\n",
       " 60     322322\n",
       " 40     176512\n",
       " 70     151347\n",
       " 50      75158\n",
       " 20      60237\n",
       "-1          80\n",
       " 10         16\n",
       " 15         10\n",
       " 0           1\n",
       "Name: Speed_limit, dtype: int64"
      ]
     },
     "execution_count": 25,
     "metadata": {},
     "output_type": "execute_result"
    }
   ],
   "source": [
    "accidents['Speed_limit'].value_counts()"
   ]
  },
  {
   "cell_type": "markdown",
   "metadata": {},
   "source": [
    "The value -1 and 0 represents missing or out of range data hence, we will replace it with the highest count value instead."
   ]
  },
  {
   "cell_type": "code",
   "execution_count": 26,
   "metadata": {},
   "outputs": [],
   "source": [
    "cleanup_nums = {'Speed_limit':{-1: 30, 0: 30}}"
   ]
  },
  {
   "cell_type": "code",
   "execution_count": 27,
   "metadata": {},
   "outputs": [],
   "source": [
    "accidents = accidents.replace(cleanup_nums)"
   ]
  },
  {
   "cell_type": "code",
   "execution_count": 28,
   "metadata": {
    "scrolled": true
   },
   "outputs": [
    {
     "data": {
      "text/plain": [
       "30    1365378\n",
       "60     322322\n",
       "40     176512\n",
       "70     151347\n",
       "50      75158\n",
       "20      60237\n",
       "10         16\n",
       "15         10\n",
       "Name: Speed_limit, dtype: int64"
      ]
     },
     "execution_count": 28,
     "metadata": {},
     "output_type": "execute_result"
    }
   ],
   "source": [
    "accidents['Speed_limit'].value_counts()"
   ]
  },
  {
   "cell_type": "markdown",
   "metadata": {},
   "source": [
    "There are no outlier values in the speed limit column anymore."
   ]
  },
  {
   "cell_type": "markdown",
   "metadata": {},
   "source": [
    "### 3.1.4 Road Type"
   ]
  },
  {
   "cell_type": "code",
   "execution_count": 29,
   "metadata": {
    "scrolled": true
   },
   "outputs": [
    {
     "data": {
      "text/plain": [
       "Single carriageway    1126951\n",
       "6                      474207\n",
       "Dual carriageway       221741\n",
       "Roundabout             100463\n",
       "3                       98786\n",
       "1                       41324\n",
       "One way street          30981\n",
       "Slip road               15668\n",
       "2                       15406\n",
       "9                        9292\n",
       "Unknown                  8346\n",
       "7                        7814\n",
       "-1                          1\n",
       "Name: Road_Type, dtype: int64"
      ]
     },
     "execution_count": 29,
     "metadata": {},
     "output_type": "execute_result"
    }
   ],
   "source": [
    "accidents['Road_Type'].value_counts()"
   ]
  },
  {
   "cell_type": "markdown",
   "metadata": {},
   "source": [
    "There are several random numbers in the **Road Type** column. Fortunately, we can refer to our dataset description as shown below, to identify what each of these numbers represent and replace them accordingly.\n",
    "\n",
    "![road type image](images/img_road.jpg)"
   ]
  },
  {
   "cell_type": "code",
   "execution_count": 30,
   "metadata": {},
   "outputs": [],
   "source": [
    "cleanup_nums = {'Road_Type':{'-1': 'Single carriageway',\n",
    "                              '1': 'Roundabout', \n",
    "                              '2': 'One way street',\n",
    "                              '3': 'Dual carriageway', \n",
    "                              '6': 'Single carriageway', \n",
    "                              '7': 'Slip road', \n",
    "                              '9': 'Unknown'\n",
    "                            }\n",
    "               }"
   ]
  },
  {
   "cell_type": "markdown",
   "metadata": {},
   "source": [
    "Since the -1 values represents missing or out of range data, we decided to replace it with the highest count value instead."
   ]
  },
  {
   "cell_type": "code",
   "execution_count": 31,
   "metadata": {},
   "outputs": [],
   "source": [
    "accidents = accidents.replace(cleanup_nums)"
   ]
  },
  {
   "cell_type": "code",
   "execution_count": 32,
   "metadata": {
    "scrolled": false
   },
   "outputs": [
    {
     "data": {
      "text/plain": [
       "Single carriageway    1601159\n",
       "Dual carriageway       320527\n",
       "Roundabout             141787\n",
       "One way street          46387\n",
       "Slip road               23482\n",
       "Unknown                 17638\n",
       "Name: Road_Type, dtype: int64"
      ]
     },
     "execution_count": 32,
     "metadata": {},
     "output_type": "execute_result"
    }
   ],
   "source": [
    "accidents['Road_Type'].value_counts()"
   ]
  },
  {
   "cell_type": "markdown",
   "metadata": {},
   "source": [
    "After replacing the numbers with their correct categorical descriptions, we are able to obtain the correct road type values. The spellings for each of these values are also correct."
   ]
  },
  {
   "cell_type": "markdown",
   "metadata": {},
   "source": [
    "### 3.1.5 Light Conditions"
   ]
  },
  {
   "cell_type": "code",
   "execution_count": 33,
   "metadata": {
    "scrolled": true
   },
   "outputs": [
    {
     "data": {
      "text/plain": [
       "Daylight: Street light present               1102222\n",
       "1                                             466201\n",
       "Darkness: Street lights present and lit       296340\n",
       "4                                             131120\n",
       "Darkeness: No street lighting                  82559\n",
       "6                                              33167\n",
       "Darkness: Street lighting unknown              16120\n",
       "7                                              12074\n",
       "Darkness: Street lights present but unlit       6909\n",
       "5                                               4253\n",
       "-1                                                15\n",
       "Name: Light_Conditions, dtype: int64"
      ]
     },
     "execution_count": 33,
     "metadata": {},
     "output_type": "execute_result"
    }
   ],
   "source": [
    "accidents['Light_Conditions'].value_counts()"
   ]
  },
  {
   "cell_type": "markdown",
   "metadata": {},
   "source": [
    "There is a grammatical error for 'Daylight: Street light present' and a spelling error for 'Darkeness: No street lighting'. Hence, we have to correct these mistakes using panda's 'replace' function.\n",
    "\n",
    "In addition, there are several random numbers in the **Light Conditions** column. Fortunately, we can refer to our dataset description as shown below, to identify what each of these numbers represent and replace them accordingly. \n",
    "\n",
    "![light conditions image](images/img_light.jpg)"
   ]
  },
  {
   "cell_type": "code",
   "execution_count": 34,
   "metadata": {},
   "outputs": [],
   "source": [
    "accidents['Light_Conditions'] = accidents['Light_Conditions'].replace({'Daylight: Street light present': 'Daylight: Street lights present'})"
   ]
  },
  {
   "cell_type": "code",
   "execution_count": 35,
   "metadata": {},
   "outputs": [],
   "source": [
    "accidents['Light_Conditions'] = accidents['Light_Conditions'].replace({'Darkeness: No street lighting': 'Darkness: No street lighting'})"
   ]
  },
  {
   "cell_type": "code",
   "execution_count": 36,
   "metadata": {},
   "outputs": [],
   "source": [
    "cleanup_nums = {'Light_Conditions':{'-1': 'Daylight: Street lights present',\n",
    "                                     '1': 'Daylight: Street lights present', \n",
    "                                     '4': 'Darkness: Street lights present and lit',\n",
    "                                     '5': 'Darkness: Street lights present but unlit', \n",
    "                                     '6': 'Darkness: No street lighting',\n",
    "                                     '7': 'Darkness: Street lighting unknown'\n",
    "                                    }\n",
    "               }"
   ]
  },
  {
   "cell_type": "markdown",
   "metadata": {},
   "source": [
    "Since the -1 values represents missing or out of range data, we decided to replace it with the highest count value instead."
   ]
  },
  {
   "cell_type": "code",
   "execution_count": 37,
   "metadata": {},
   "outputs": [],
   "source": [
    "accidents = accidents.replace(cleanup_nums)"
   ]
  },
  {
   "cell_type": "code",
   "execution_count": 38,
   "metadata": {
    "scrolled": true
   },
   "outputs": [
    {
     "data": {
      "text/plain": [
       "Daylight: Street lights present              1568438\n",
       "Darkness: Street lights present and lit       427460\n",
       "Darkness: No street lighting                  115726\n",
       "Darkness: Street lighting unknown              28194\n",
       "Darkness: Street lights present but unlit      11162\n",
       "Name: Light_Conditions, dtype: int64"
      ]
     },
     "execution_count": 38,
     "metadata": {},
     "output_type": "execute_result"
    }
   ],
   "source": [
    "accidents['Light_Conditions'].value_counts()"
   ]
  },
  {
   "cell_type": "markdown",
   "metadata": {},
   "source": [
    "The grammar and spellings for each of the light conditions are now correct, and after replacing the numbers with their correct categorical descriptions, we are able to obtain the correct light condition values."
   ]
  },
  {
   "cell_type": "markdown",
   "metadata": {},
   "source": [
    "### 3.1.6 Weather Conditions"
   ]
  },
  {
   "cell_type": "code",
   "execution_count": 39,
   "metadata": {
    "scrolled": true
   },
   "outputs": [
    {
     "data": {
      "text/plain": [
       "Fine without high winds       1203943\n",
       "1                              522437\n",
       "Raining without high winds     177663\n",
       "2                               72434\n",
       "Other                           33503\n",
       "Unknown                         28296\n",
       "Raining with high winds         20813\n",
       "Fine with high winds            18355\n",
       "9                               17972\n",
       "8                               12550\n",
       "Snowing without high winds      11301\n",
       "Fog or mist                      8190\n",
       "5                                7560\n",
       "4                                7220\n",
       "3                                2955\n",
       "7                                2874\n",
       "Snowing with high winds          1960\n",
       "6                                 795\n",
       "-1                                 33\n",
       "Name: Weather_Conditions, dtype: int64"
      ]
     },
     "execution_count": 39,
     "metadata": {},
     "output_type": "execute_result"
    }
   ],
   "source": [
    "accidents['Weather_Conditions'].value_counts()"
   ]
  },
  {
   "cell_type": "markdown",
   "metadata": {},
   "source": [
    "There are several random numbers in the **Weather Conditions** column. Fortunately, we can refer to our dataset description as shown below, to identify what each of these numbers represent and replace them accordingly.\n",
    "\n",
    "![weather conditions image](images/img_weather.jpg)"
   ]
  },
  {
   "cell_type": "code",
   "execution_count": 40,
   "metadata": {},
   "outputs": [],
   "source": [
    "cleanup_nums = {'Weather_Conditions':{'-1': 'Fine with high winds',\n",
    "                                       '1': 'Fine without high winds', \n",
    "                                       '2': 'Raining without high winds', \n",
    "                                       '3': 'Snowing without high winds', \n",
    "                                       '4': 'Fine with high winds', \n",
    "                                       '5': 'Raining with high winds',\n",
    "                                       '6': 'Snowing with high winds', \n",
    "                                       '7': 'Fog or mist',\n",
    "                                       '8': 'Other',\n",
    "                                       '9': 'Unknown'\n",
    "                                     }\n",
    "               }"
   ]
  },
  {
   "cell_type": "markdown",
   "metadata": {},
   "source": [
    "Since the -1 values represents missing or out of range data, we decided to replace it with the highest count value instead."
   ]
  },
  {
   "cell_type": "code",
   "execution_count": 41,
   "metadata": {},
   "outputs": [],
   "source": [
    "accidents = accidents.replace(cleanup_nums)"
   ]
  },
  {
   "cell_type": "code",
   "execution_count": 42,
   "metadata": {
    "scrolled": true
   },
   "outputs": [
    {
     "data": {
      "text/plain": [
       "Fine without high winds       1726380\n",
       "Raining without high winds     250097\n",
       "Unknown                         46268\n",
       "Other                           46053\n",
       "Raining with high winds         28373\n",
       "Fine with high winds            25608\n",
       "Snowing without high winds      14256\n",
       "Fog or mist                     11064\n",
       "Snowing with high winds          2755\n",
       "Name: Weather_Conditions, dtype: int64"
      ]
     },
     "execution_count": 42,
     "metadata": {},
     "output_type": "execute_result"
    }
   ],
   "source": [
    "accidents['Weather_Conditions'].value_counts()"
   ]
  },
  {
   "cell_type": "markdown",
   "metadata": {},
   "source": [
    "After replacing the numbers with their correct categorical descriptions, we are able to obtain the correct weather condition values. The spellings for each of these values are also correct."
   ]
  },
  {
   "cell_type": "markdown",
   "metadata": {},
   "source": [
    "### 3.1.7 Road Surface Conditions"
   ]
  },
  {
   "cell_type": "code",
   "execution_count": 43,
   "metadata": {
    "scrolled": true
   },
   "outputs": [
    {
     "data": {
      "text/plain": [
       "Dry                          1034670\n",
       "1                             466056\n",
       "Wet/Damp                      423477\n",
       "2                             163495\n",
       "Frost/Ice                      31405\n",
       "Snow                           10497\n",
       "4                               8390\n",
       "-1                              5562\n",
       "3                               2570\n",
       "Flood (Over 3cm of water)       2143\n",
       "5                                757\n",
       "Name: Road_Surface_Conditions, dtype: int64"
      ]
     },
     "execution_count": 43,
     "metadata": {},
     "output_type": "execute_result"
    }
   ],
   "source": [
    "accidents['Road_Surface_Conditions'].value_counts()"
   ]
  },
  {
   "cell_type": "markdown",
   "metadata": {},
   "source": [
    "There are several random numbers in the **Road Surface Conditions** column. Fortunately, we can refer to our dataset description as shown below, to identify what each of these numbers represent and replace them accordingly.\n",
    "\n",
    "![road surface conditions image](images/img_surface.jpg)"
   ]
  },
  {
   "cell_type": "code",
   "execution_count": 44,
   "metadata": {},
   "outputs": [],
   "source": [
    "cleanup_nums = {'Road_Surface_Conditions':{'-1': 'Dry',\n",
    "                                            '1': 'Dry', \n",
    "                                            '2': 'Wet/Damp',\n",
    "                                            '3': 'Snow', \n",
    "                                            '4': 'Frost/Ice', \n",
    "                                            '5': 'Flood (Over 3cm of water)', \n",
    "                                            '6': 'Oil/diesel', \n",
    "                                            '7': 'Mud'\n",
    "                                          }\n",
    "               }"
   ]
  },
  {
   "cell_type": "markdown",
   "metadata": {},
   "source": [
    "Since the -1 values represents missing or out of range data, we decided to replace it with the highest count value instead."
   ]
  },
  {
   "cell_type": "code",
   "execution_count": 45,
   "metadata": {},
   "outputs": [],
   "source": [
    "accidents = accidents.replace(cleanup_nums)"
   ]
  },
  {
   "cell_type": "code",
   "execution_count": 46,
   "metadata": {
    "scrolled": true
   },
   "outputs": [
    {
     "data": {
      "text/plain": [
       "Dry                          1506288\n",
       "Wet/Damp                      586972\n",
       "Frost/Ice                      39795\n",
       "Snow                           13067\n",
       "Flood (Over 3cm of water)       2900\n",
       "Name: Road_Surface_Conditions, dtype: int64"
      ]
     },
     "execution_count": 46,
     "metadata": {},
     "output_type": "execute_result"
    }
   ],
   "source": [
    "accidents['Road_Surface_Conditions'].value_counts()"
   ]
  },
  {
   "cell_type": "markdown",
   "metadata": {},
   "source": [
    "After replacing the numbers with their correct categorical descriptions, we are able to obtain the correct road surface condition values. The spellings for each of these values are also correct."
   ]
  },
  {
   "cell_type": "markdown",
   "metadata": {
    "id": "_WQHZnPTe-mA"
   },
   "source": [
    "## 3.2 Identify Missing Data\n",
    "\n",
    "We can use seaborn to create a simple heatmap to see whether there are any missing data. We will also be using pandas.DataFrame.isna and pandas.DataFrame.isnull to help us detect those missing values."
   ]
  },
  {
   "cell_type": "code",
   "execution_count": 47,
   "metadata": {
    "colab": {
     "base_uri": "https://localhost:8080/",
     "height": 398
    },
    "id": "5LyJ17K9eQHF",
    "outputId": "1074f14d-9fc0-48dd-ec54-62b813031ee9"
   },
   "outputs": [
    {
     "data": {
      "text/plain": [
       "<AxesSubplot:>"
      ]
     },
     "execution_count": 47,
     "metadata": {},
     "output_type": "execute_result"
    },
    {
     "data": {
      "image/png": "[encoded data removed]",
      "text/plain": [
       "<Figure size 432x288 with 1 Axes>"
      ]
     },
     "metadata": {
      "needs_background": "light"
     },
     "output_type": "display_data"
    }
   ],
   "source": [
    "sns.heatmap(accidents.isnull(), yticklabels=False, cbar=False, cmap='viridis')"
   ]
  },
  {
   "cell_type": "code",
   "execution_count": 48,
   "metadata": {
    "colab": {
     "base_uri": "https://localhost:8080/"
    },
    "id": "6ZYyT0sKo48E",
    "outputId": "f4449c15-9a08-48be-e18b-dba434b9f8da"
   },
   "outputs": [
    {
     "data": {
      "text/plain": [
       "Longitude                   True\n",
       "Latitude                    True\n",
       "Date                       False\n",
       "Time                        True\n",
       "Day                        False\n",
       "Month                      False\n",
       "Year                       False\n",
       "Accident_Severity          False\n",
       "Number_of_Vehicles         False\n",
       "Speed_limit                False\n",
       "Road_Type                  False\n",
       "Light_Conditions           False\n",
       "Weather_Conditions          True\n",
       "Road_Surface_Conditions     True\n",
       "dtype: bool"
      ]
     },
     "execution_count": 48,
     "metadata": {},
     "output_type": "execute_result"
    }
   ],
   "source": [
    "accidents.isna().any()"
   ]
  },
  {
   "cell_type": "code",
   "execution_count": 49,
   "metadata": {
    "colab": {
     "base_uri": "https://localhost:8080/"
    },
    "id": "R0b0Ifdko7_T",
    "outputId": "9cdb93d5-2cd6-46e2-e8b1-9e183b372f75"
   },
   "outputs": [
    {
     "data": {
      "text/plain": [
       "Longitude                   247\n",
       "Latitude                    247\n",
       "Date                          0\n",
       "Time                        216\n",
       "Day                           0\n",
       "Month                         0\n",
       "Year                          0\n",
       "Accident_Severity             0\n",
       "Number_of_Vehicles            0\n",
       "Speed_limit                   0\n",
       "Road_Type                     0\n",
       "Light_Conditions              0\n",
       "Weather_Conditions          126\n",
       "Road_Surface_Conditions    1958\n",
       "dtype: int64"
      ]
     },
     "execution_count": 49,
     "metadata": {},
     "output_type": "execute_result"
    }
   ],
   "source": [
    "accidents.isnull().sum()"
   ]
  },
  {
   "cell_type": "markdown",
   "metadata": {
    "id": "nBbJgQhppAG7"
   },
   "source": [
    "This shows that there are 5 columns that contains missing data. They are...\n",
    "\n",
    "* Longitude\n",
    "* Latitude\n",
    "* Time\n",
    "* Weather_Conditions\n",
    "* Road_Surface_Conditions\n",
    "\n",
    "The proportion of the missing values for each of these columns are small. Thus, we can perform a reasonable replacement with some form of imputation."
   ]
  },
  {
   "cell_type": "markdown",
   "metadata": {
    "id": "K-p1YdHdpSF7"
   },
   "source": [
    "## 3.3 Data Imputation\n",
    "\n",
    "We wish to fill the missing values for each of the columns. However, we will not be converting the categorical features to numerical features for now as we want to provide the data visualization of the traffic accident dataset."
   ]
  },
  {
   "cell_type": "markdown",
   "metadata": {
    "id": "7ua3FEa5pt5T"
   },
   "source": [
    "### 3.3.1 Longitude and Latitude\n",
    "\n",
    "We did not drop the NaN values but we take the rows that is not NaN instead. This is because, if we replace the NaN values with the mean, it will produce a random coordinate location.\n"
   ]
  },
  {
   "cell_type": "code",
   "execution_count": 50,
   "metadata": {
    "id": "5puAxrcupx47"
   },
   "outputs": [],
   "source": [
    "accidents = accidents[accidents['Longitude'].notna()]\n",
    "accidents = accidents[accidents['Latitude'].notna()]"
   ]
  },
  {
   "cell_type": "markdown",
   "metadata": {
    "id": "jE9NUafVqBLD"
   },
   "source": [
    "### 3.3.2 Time"
   ]
  },
  {
   "cell_type": "code",
   "execution_count": 51,
   "metadata": {
    "colab": {
     "base_uri": "https://localhost:8080/"
    },
    "id": "boyCtU6bqXsq",
    "outputId": "1ba86cc2-cedf-4aa1-a89d-80b7f085012a"
   },
   "outputs": [
    {
     "data": {
      "text/plain": [
       "17:00    21002\n",
       "17:30    19899\n",
       "16:00    19022\n",
       "Name: Time, dtype: int64"
      ]
     },
     "execution_count": 51,
     "metadata": {},
     "output_type": "execute_result"
    }
   ],
   "source": [
    "# Identify the highest time occurrence when accidents happen\n",
    "accidents['Time'].value_counts().head(3)"
   ]
  },
  {
   "cell_type": "markdown",
   "metadata": {
    "id": "G2t1_9KYqoFK"
   },
   "source": [
    "The highest time occurence is at 17:00 PM."
   ]
  },
  {
   "cell_type": "code",
   "execution_count": 52,
   "metadata": {
    "id": "KVrFPFF_ql_C"
   },
   "outputs": [],
   "source": [
    "# Fill the missing 'Time' values with the highest occurrence\n",
    "accidents['Time'] = accidents['Time'].fillna('17:00')"
   ]
  },
  {
   "cell_type": "markdown",
   "metadata": {
    "id": "oMSqp6GMq416"
   },
   "source": [
    "### 3.3.3 Weather Conditions"
   ]
  },
  {
   "cell_type": "code",
   "execution_count": 53,
   "metadata": {
    "colab": {
     "base_uri": "https://localhost:8080/"
    },
    "id": "3bjDl4jqq72a",
    "outputId": "93f7f3d3-2805-4871-9856-22cc111db051"
   },
   "outputs": [
    {
     "data": {
      "text/plain": [
       "Fine without high winds       1726193\n",
       "Raining without high winds     250064\n",
       "Unknown                         46258\n",
       "Name: Weather_Conditions, dtype: int64"
      ]
     },
     "execution_count": 53,
     "metadata": {},
     "output_type": "execute_result"
    }
   ],
   "source": [
    "# Identify the most common weather condition that occur when accidents happen\n",
    "accidents['Weather_Conditions'].value_counts().head(3)"
   ]
  },
  {
   "cell_type": "markdown",
   "metadata": {
    "id": "QjxLvxZmq7er"
   },
   "source": [
    "The most common weather that occur is \"Fine without high winds\"."
   ]
  },
  {
   "cell_type": "code",
   "execution_count": 54,
   "metadata": {
    "id": "jn_59lgbrTUq"
   },
   "outputs": [],
   "source": [
    "# Fill the missing 'Weather_Conditions' values with the highest occurrence\n",
    "accidents['Weather_Conditions'] = accidents['Weather_Conditions'].fillna('Fine without high winds')"
   ]
  },
  {
   "cell_type": "markdown",
   "metadata": {
    "id": "YO7VUQe5rkbl"
   },
   "source": [
    "### 3.3.4 Road Surface Conditions"
   ]
  },
  {
   "cell_type": "code",
   "execution_count": 55,
   "metadata": {
    "colab": {
     "base_uri": "https://localhost:8080/"
    },
    "id": "40jjdGpRrm2a",
    "outputId": "067344c6-d93e-40ca-dcdc-2d25e67c4910"
   },
   "outputs": [
    {
     "data": {
      "text/plain": [
       "Dry          1506120\n",
       "Wet/Damp      586901\n",
       "Frost/Ice      39792\n",
       "Name: Road_Surface_Conditions, dtype: int64"
      ]
     },
     "execution_count": 55,
     "metadata": {},
     "output_type": "execute_result"
    }
   ],
   "source": [
    "# Identify the most common road surface condition that occur when accidents happen\n",
    "accidents['Road_Surface_Conditions'].value_counts().head(3)"
   ]
  },
  {
   "cell_type": "markdown",
   "metadata": {
    "id": "5oBNBoxwr0nb"
   },
   "source": [
    "The most common road surface condition is \"Dry\"."
   ]
  },
  {
   "cell_type": "code",
   "execution_count": 56,
   "metadata": {
    "id": "dqHZoMoFr54C"
   },
   "outputs": [],
   "source": [
    "# Fill the missing 'Road_Surface_Conditions' values with the highest occurrence\n",
    "accidents['Road_Surface_Conditions'] = accidents['Road_Surface_Conditions'].fillna('Dry')"
   ]
  },
  {
   "cell_type": "markdown",
   "metadata": {
    "id": "-ZL6Lh-0sRmj"
   },
   "source": [
    "## 3.4 Reanalyze Data"
   ]
  },
  {
   "cell_type": "code",
   "execution_count": 57,
   "metadata": {
    "colab": {
     "base_uri": "https://localhost:8080/",
     "height": 398
    },
    "id": "RYKidpGFsXBo",
    "outputId": "c2627fe3-1941-4b2c-d6a4-549455400d9b"
   },
   "outputs": [
    {
     "data": {
      "text/plain": [
       "<AxesSubplot:>"
      ]
     },
     "execution_count": 57,
     "metadata": {},
     "output_type": "execute_result"
    },
    {
     "data": {
      "image/png": "[encoded data removed]",
      "text/plain": [
       "<Figure size 432x288 with 1 Axes>"
      ]
     },
     "metadata": {
      "needs_background": "light"
     },
     "output_type": "display_data"
    }
   ],
   "source": [
    "sns.heatmap(accidents.isnull(), yticklabels=False, cbar=False, cmap='viridis')"
   ]
  },
  {
   "cell_type": "code",
   "execution_count": 58,
   "metadata": {
    "colab": {
     "base_uri": "https://localhost:8080/"
    },
    "id": "w_dER7gesXh5",
    "outputId": "fdc95c61-423d-422a-b41e-18ead4080ed1"
   },
   "outputs": [
    {
     "data": {
      "text/plain": [
       "Longitude                  False\n",
       "Latitude                   False\n",
       "Date                       False\n",
       "Time                       False\n",
       "Day                        False\n",
       "Month                      False\n",
       "Year                       False\n",
       "Accident_Severity          False\n",
       "Number_of_Vehicles         False\n",
       "Speed_limit                False\n",
       "Road_Type                  False\n",
       "Light_Conditions           False\n",
       "Weather_Conditions         False\n",
       "Road_Surface_Conditions    False\n",
       "dtype: bool"
      ]
     },
     "execution_count": 58,
     "metadata": {},
     "output_type": "execute_result"
    }
   ],
   "source": [
    "accidents.isna().any()"
   ]
  },
  {
   "cell_type": "code",
   "execution_count": 59,
   "metadata": {
    "colab": {
     "base_uri": "https://localhost:8080/"
    },
    "id": "F_akwieEstvA",
    "outputId": "0a147d5b-dc00-415c-e089-0a6dd574a43d",
    "scrolled": true
   },
   "outputs": [
    {
     "data": {
      "text/plain": [
       "Longitude                  0\n",
       "Latitude                   0\n",
       "Date                       0\n",
       "Time                       0\n",
       "Day                        0\n",
       "Month                      0\n",
       "Year                       0\n",
       "Accident_Severity          0\n",
       "Number_of_Vehicles         0\n",
       "Speed_limit                0\n",
       "Road_Type                  0\n",
       "Light_Conditions           0\n",
       "Weather_Conditions         0\n",
       "Road_Surface_Conditions    0\n",
       "dtype: int64"
      ]
     },
     "execution_count": 59,
     "metadata": {},
     "output_type": "execute_result"
    }
   ],
   "source": [
    "accidents.isnull().sum()"
   ]
  },
  {
   "cell_type": "markdown",
   "metadata": {
    "id": "w6p1_C5DszNK"
   },
   "source": [
    "After we reanalyzed the data again by using seaborn's heatmap and pandas.DataFrame.isna and pandas.DataFrame.isnull, we can see that there are no more missing values in the dataframe."
   ]
  },
  {
   "cell_type": "markdown",
   "metadata": {
    "id": "xcrWegiXxRvL"
   },
   "source": [
    "# 4. Data Output"
   ]
  },
  {
   "cell_type": "code",
   "execution_count": 60,
   "metadata": {
    "colab": {
     "base_uri": "https://localhost:8080/",
     "height": 289
    },
    "id": "zlJllYaoyT07",
    "outputId": "e88f45b3-6534-40d8-aea3-0bc4612da05b"
   },
   "outputs": [
    {
     "data": {
      "text/html": [
       "<div>\n",
       "<style scoped>\n",
       "    .dataframe tbody tr th:only-of-type {\n",
       "        vertical-align: middle;\n",
       "    }\n",
       "\n",
       "    .dataframe tbody tr th {\n",
       "        vertical-align: top;\n",
       "    }\n",
       "\n",
       "    .dataframe thead th {\n",
       "        text-align: right;\n",
       "    }\n",
       "</style>\n",
       "<table border=\"1\" class=\"dataframe\">\n",
       "  <thead>\n",
       "    <tr style=\"text-align: right;\">\n",
       "      <th></th>\n",
       "      <th>Longitude</th>\n",
       "      <th>Latitude</th>\n",
       "      <th>Date</th>\n",
       "      <th>Time</th>\n",
       "      <th>Day</th>\n",
       "      <th>Month</th>\n",
       "      <th>Year</th>\n",
       "      <th>Accident_Severity</th>\n",
       "      <th>Number_of_Vehicles</th>\n",
       "      <th>Speed_limit</th>\n",
       "      <th>Road_Type</th>\n",
       "      <th>Light_Conditions</th>\n",
       "      <th>Weather_Conditions</th>\n",
       "      <th>Road_Surface_Conditions</th>\n",
       "    </tr>\n",
       "  </thead>\n",
       "  <tbody>\n",
       "    <tr>\n",
       "      <th>0</th>\n",
       "      <td>-0.191170</td>\n",
       "      <td>51.489096</td>\n",
       "      <td>2005-04-01</td>\n",
       "      <td>17:42</td>\n",
       "      <td>Friday</td>\n",
       "      <td>April</td>\n",
       "      <td>2005</td>\n",
       "      <td>2</td>\n",
       "      <td>1</td>\n",
       "      <td>30</td>\n",
       "      <td>Single carriageway</td>\n",
       "      <td>Daylight: Street lights present</td>\n",
       "      <td>Raining without high winds</td>\n",
       "      <td>Wet/Damp</td>\n",
       "    </tr>\n",
       "    <tr>\n",
       "      <th>1</th>\n",
       "      <td>-0.211708</td>\n",
       "      <td>51.520075</td>\n",
       "      <td>2005-05-01</td>\n",
       "      <td>17:36</td>\n",
       "      <td>Sunday</td>\n",
       "      <td>May</td>\n",
       "      <td>2005</td>\n",
       "      <td>3</td>\n",
       "      <td>1</td>\n",
       "      <td>30</td>\n",
       "      <td>Dual carriageway</td>\n",
       "      <td>Darkness: Street lights present and lit</td>\n",
       "      <td>Fine without high winds</td>\n",
       "      <td>Dry</td>\n",
       "    </tr>\n",
       "    <tr>\n",
       "      <th>2</th>\n",
       "      <td>-0.206458</td>\n",
       "      <td>51.525301</td>\n",
       "      <td>2005-06-01</td>\n",
       "      <td>00:15</td>\n",
       "      <td>Wednesday</td>\n",
       "      <td>June</td>\n",
       "      <td>2005</td>\n",
       "      <td>3</td>\n",
       "      <td>2</td>\n",
       "      <td>30</td>\n",
       "      <td>Single carriageway</td>\n",
       "      <td>Darkness: Street lights present and lit</td>\n",
       "      <td>Fine without high winds</td>\n",
       "      <td>Dry</td>\n",
       "    </tr>\n",
       "    <tr>\n",
       "      <th>3</th>\n",
       "      <td>-0.173862</td>\n",
       "      <td>51.482442</td>\n",
       "      <td>2005-07-01</td>\n",
       "      <td>10:35</td>\n",
       "      <td>Friday</td>\n",
       "      <td>July</td>\n",
       "      <td>2005</td>\n",
       "      <td>3</td>\n",
       "      <td>1</td>\n",
       "      <td>30</td>\n",
       "      <td>Single carriageway</td>\n",
       "      <td>Daylight: Street lights present</td>\n",
       "      <td>Fine without high winds</td>\n",
       "      <td>Dry</td>\n",
       "    </tr>\n",
       "    <tr>\n",
       "      <th>4</th>\n",
       "      <td>-0.156618</td>\n",
       "      <td>51.495752</td>\n",
       "      <td>2005-10-01</td>\n",
       "      <td>21:13</td>\n",
       "      <td>Saturday</td>\n",
       "      <td>October</td>\n",
       "      <td>2005</td>\n",
       "      <td>3</td>\n",
       "      <td>1</td>\n",
       "      <td>30</td>\n",
       "      <td>Single carriageway</td>\n",
       "      <td>Darkness: Street lighting unknown</td>\n",
       "      <td>Fine without high winds</td>\n",
       "      <td>Wet/Damp</td>\n",
       "    </tr>\n",
       "  </tbody>\n",
       "</table>\n",
       "</div>"
      ],
      "text/plain": [
       "   Longitude   Latitude       Date   Time        Day    Month  Year  \\\n",
       "0  -0.191170  51.489096 2005-04-01  17:42     Friday    April  2005   \n",
       "1  -0.211708  51.520075 2005-05-01  17:36     Sunday      May  2005   \n",
       "2  -0.206458  51.525301 2005-06-01  00:15  Wednesday     June  2005   \n",
       "3  -0.173862  51.482442 2005-07-01  10:35     Friday     July  2005   \n",
       "4  -0.156618  51.495752 2005-10-01  21:13   Saturday  October  2005   \n",
       "\n",
       "   Accident_Severity  Number_of_Vehicles  Speed_limit           Road_Type  \\\n",
       "0                  2                   1           30  Single carriageway   \n",
       "1                  3                   1           30    Dual carriageway   \n",
       "2                  3                   2           30  Single carriageway   \n",
       "3                  3                   1           30  Single carriageway   \n",
       "4                  3                   1           30  Single carriageway   \n",
       "\n",
       "                          Light_Conditions          Weather_Conditions  \\\n",
       "0          Daylight: Street lights present  Raining without high winds   \n",
       "1  Darkness: Street lights present and lit     Fine without high winds   \n",
       "2  Darkness: Street lights present and lit     Fine without high winds   \n",
       "3          Daylight: Street lights present     Fine without high winds   \n",
       "4        Darkness: Street lighting unknown     Fine without high winds   \n",
       "\n",
       "  Road_Surface_Conditions  \n",
       "0                Wet/Damp  \n",
       "1                     Dry  \n",
       "2                     Dry  \n",
       "3                     Dry  \n",
       "4                Wet/Damp  "
      ]
     },
     "execution_count": 60,
     "metadata": {},
     "output_type": "execute_result"
    }
   ],
   "source": [
    "accidents.head()"
   ]
  },
  {
   "cell_type": "code",
   "execution_count": 61,
   "metadata": {
    "colab": {
     "base_uri": "https://localhost:8080/"
    },
    "id": "SuesniNkyWcZ",
    "outputId": "01553391-04c9-4690-fc29-dd2be0889fca"
   },
   "outputs": [
    {
     "name": "stdout",
     "output_type": "stream",
     "text": [
      "<class 'pandas.core.frame.DataFrame'>\n",
      "Int64Index: 2150733 entries, 0 to 646829\n",
      "Data columns (total 14 columns):\n",
      " #   Column                   Dtype         \n",
      "---  ------                   -----         \n",
      " 0   Longitude                float64       \n",
      " 1   Latitude                 float64       \n",
      " 2   Date                     datetime64[ns]\n",
      " 3   Time                     object        \n",
      " 4   Day                      object        \n",
      " 5   Month                    object        \n",
      " 6   Year                     int64         \n",
      " 7   Accident_Severity        int64         \n",
      " 8   Number_of_Vehicles       int64         \n",
      " 9   Speed_limit              int64         \n",
      " 10  Road_Type                object        \n",
      " 11  Light_Conditions         object        \n",
      " 12  Weather_Conditions       object        \n",
      " 13  Road_Surface_Conditions  object        \n",
      "dtypes: datetime64[ns](1), float64(2), int64(4), object(7)\n",
      "memory usage: 246.1+ MB\n"
     ]
    }
   ],
   "source": [
    "accidents.info()"
   ]
  },
  {
   "cell_type": "code",
   "execution_count": 62,
   "metadata": {
    "colab": {
     "base_uri": "https://localhost:8080/"
    },
    "id": "pKoB_8nIyanS",
    "outputId": "0d472c87-3b8f-4579-a619-70c2ce556213",
    "scrolled": true
   },
   "outputs": [
    {
     "data": {
      "text/plain": [
       "(2150733, 14)"
      ]
     },
     "execution_count": 62,
     "metadata": {},
     "output_type": "execute_result"
    }
   ],
   "source": [
    "accidents.shape"
   ]
  },
  {
   "cell_type": "markdown",
   "metadata": {
    "id": "WoOSynutycqi"
   },
   "source": [
    "After we have preprocessed and cleaned the dataframe, we will now have an approximately 2.1 million rows and 14 columns. There are no more missing values or any misspellings. Therefore, we can finally use this dataframe and export it for data visualization."
   ]
  },
  {
   "cell_type": "code",
   "execution_count": 63,
   "metadata": {
    "id": "uVVFm4yOy9fx"
   },
   "outputs": [],
   "source": [
    "# Save the dataframe into a dat file\n",
    "accidents.to_csv('accidents_dv.dat', index=False)"
   ]
  },
  {
   "cell_type": "markdown",
   "metadata": {
    "id": "PFLWWrAx1f_a"
   },
   "source": [
    "{\\__/}<br>\n",
    "( • . •)<br>\n",
    "/ >❤️ **The End**"
   ]
  },
  {
   "cell_type": "markdown",
   "metadata": {
    "id": "8l1LO7-BzHJr"
   },
   "source": [
    "---"
   ]
  }
 ],
 "metadata": {
  "colab": {
   "collapsed_sections": [],
   "name": "Data Preprocessing for Data Visualization.ipynb",
   "provenance": [],
   "toc_visible": true
  },
  "kernelspec": {
   "display_name": "Python 3",
   "language": "python",
   "name": "python3"
  },
  "language_info": {
   "codemirror_mode": {
    "name": "ipython",
    "version": 3
   },
   "file_extension": ".py",
   "mimetype": "text/x-python",
   "name": "python",
   "nbconvert_exporter": "python",
   "pygments_lexer": "ipython3",
   "version": "3.8.5"
  }
 },
 "nbformat": 4,
 "nbformat_minor": 1
}
